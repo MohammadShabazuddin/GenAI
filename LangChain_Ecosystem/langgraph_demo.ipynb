{
 "cells": [
  {
   "cell_type": "code",
   "execution_count": 9,
   "metadata": {},
   "outputs": [],
   "source": [
    "import os\n",
    "from dotenv import load_dotenv, find_dotenv\n",
    "_ = load_dotenv(find_dotenv())\n",
    "openai_api_key = os.environ['OPENAI_API_KEY']\n",
    "\n",
    "os.environ[\"TAVILY_API_KEY\"] = \"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\""
   ]
  },
  {
   "cell_type": "code",
   "execution_count": 10,
   "metadata": {},
   "outputs": [],
   "source": [
    "from langchain_openai import ChatOpenAI\n",
    "llm = ChatOpenAI(model=\"gpt-3.5-turbo\")"
   ]
  },
  {
   "cell_type": "code",
   "execution_count": 12,
   "metadata": {},
   "outputs": [
    {
     "data": {
      "text/plain": [
       "[{'url': 'https://www.cnn.com/weather/live-news/los-angeles-wildfire-windstorm-01-07-25/index.html',\n",
       "  'content': 'Live updates: Wildfires erupt in Los Angeles County as powerful windstorm hits Southern California | CNN North to northeast winds around 15 mph with gusts up to 30 mph are currently being observed near the base of the Pacific Palisades neighborhood, but stronger wind gusts to 50 mph have been occurring in the higher elevations where the fire is burning, according to data from the National Weather Service in Los Angeles. The fire could soon threaten nearby structures on Palisades Drive, causing the Los Angeles Fire Department to warn residents there to “get set for a potential wildfire evacuation.” Evacuation warnings have been issued for four zones near the fire, according to fire officials.'},\n",
       " {'url': 'https://apnews.com/live/wildfire-california-los-angeles-updates',\n",
       "  'content': \"Los Angeles wildfires live updates: At least 10 dead as Eaton, Palisades and Kenneth fires blaze | AP News AP News Alerts Keep your pulse on the news with breaking news alerts from The AP.The Morning Wire Our flagship newsletter breaks down the biggest headlines of the day.Ground Game Exclusive insights and key stories from the world of politics.Beyond the Story Executive Editor Julie Pace brings you behind the scenes of the AP newsroom.AP Top 25 Poll Alerts Get email alerts for every college football Top 25 Poll release.AP Top 25 Women's Basketball Poll Alerts Women's college basketball poll alerts and updates.\"},\n",
       " {'url': 'https://www.cnn.com/2025/01/10/us/california-la-fires-emergency-prep-invs/index.html',\n",
       "  'content': 'In the Pacific Palisades – which is at the far end of the municipal water system and experiences reduced water flow due to decreasing pipe sizes extending from the main line – the dry hydrants were due to unprecedented demand placed on a system that was not designed for fighting wildfires, said Janisse Quiñones, chief executive officer and chief engineer of the Los Angeles Department of Water and Power. Wildfire smoke and burned houses are seen at dawn in the Pacific Palisades neighborhood of Los Angeles. Sun rises over the Pacific Palisades neighborhood of west Los Angeles, in the aftermath of devastating wildfires in the Los Angeles area forcing people to evacuate, in California, U.S., January 9, 2025.'}]"
      ]
     },
     "execution_count": 12,
     "metadata": {},
     "output_type": "execute_result"
    }
   ],
   "source": [
    "from langchain_community.tools.tavily_search import TavilySearchResults\n",
    "search = TavilySearchResults(max_results=3)\n",
    "search.invoke(\"Tell me about 2025 LA wildfire\")\n",
    "# search.invoke(\"Who are the top stars of the 2024 Eurocup?\")"
   ]
  },
  {
   "cell_type": "code",
   "execution_count": 13,
   "metadata": {},
   "outputs": [],
   "source": [
    "tools = [search]"
   ]
  },
  {
   "cell_type": "code",
   "execution_count": 14,
   "metadata": {},
   "outputs": [
    {
     "data": {
      "text/plain": [
       "[TavilySearchResults(max_results=3)]"
      ]
     },
     "execution_count": 14,
     "metadata": {},
     "output_type": "execute_result"
    }
   ],
   "source": [
    "tools"
   ]
  },
  {
   "cell_type": "code",
   "execution_count": 15,
   "metadata": {},
   "outputs": [],
   "source": [
    "from langgraph.prebuilt import create_react_agent\n",
    "agent_executor = create_react_agent(llm, tools)"
   ]
  },
  {
   "cell_type": "code",
   "execution_count": 16,
   "metadata": {},
   "outputs": [
    {
     "data": {
      "text/plain": [
       "[HumanMessage(content='Tell me about 2025 LA wildfire', id='55e3c7a2-3afe-4669-acf6-1a80dcc31f8c'),\n",
       " AIMessage(content='', additional_kwargs={'tool_calls': [{'id': 'call_Yx3LJg0KFiSe6jiXEcnYe6bx', 'function': {'arguments': '{\"query\":\"2025 Los Angeles wildfire\"}', 'name': 'tavily_search_results_json'}, 'type': 'function'}]}, response_metadata={'token_usage': {'completion_tokens': 23, 'prompt_tokens': 89, 'total_tokens': 112, 'completion_tokens_details': {'accepted_prediction_tokens': 0, 'audio_tokens': 0, 'reasoning_tokens': 0, 'rejected_prediction_tokens': 0}, 'prompt_tokens_details': {'audio_tokens': 0, 'cached_tokens': 0}}, 'model_name': 'gpt-3.5-turbo-0125', 'system_fingerprint': None, 'finish_reason': 'tool_calls', 'logprobs': None}, id='run-57312357-c622-4303-957b-9cd029efdd70-0', tool_calls=[{'name': 'tavily_search_results_json', 'args': {'query': '2025 Los Angeles wildfire'}, 'id': 'call_Yx3LJg0KFiSe6jiXEcnYe6bx', 'type': 'tool_call'}], usage_metadata={'input_tokens': 89, 'output_tokens': 23, 'total_tokens': 112}),\n",
       " ToolMessage(content='[{\"url\": \"https://en.wikipedia.org/wiki/January_2025_Southern_California_wildfires\", \"content\": \"The January 2025 Southern California wildfires are an ongoing series of wildfires that struck the Los Angeles metropolitan area and surrounding regions on January 7, 2025, and was characterized by meteorological conditions including hurricane-force winds, very low humidity, and prolonged drought conditions that led to extreme fire danger. Vegetation and trees near the Getty Villa burned, with no structural damage being reported as of 5:20 pm PST.[8] The fire also spread to the Palisades Charter Elementary School.[24] Several beachfront properties in Malibu were destroyed by the wildfire.[18] Winds blew wildfire smoke across Los Angeles, leading to several \\\\\"very unhealthy\\\\\" air quality index readings of over 200, with the PM2.5 of the Harrison ES station reaching 184.1 µg/m³, or 36.8 times the annual World Health Organization guideline value.[8][28][29] ^ a b c \\\\\"Live updates: Pacific Palisades wildfire in Los Angeles, California orders evacuations\\\\\".\"}, {\"url\": \"https://www.politico.com/news/2025/01/11/la-county-wildfires-us-history-00197700\", \"content\": \"01/11/2025 08:20 PM EST. Link Copied. LOS ANGELES — The wildfires that erupted this week across Los Angeles County are still raging, but already are projected to be among the costliest natural\"}, {\"url\": \"https://www.fire.ca.gov/incidents/2025/1/9/kenneth-fire\", \"content\": \"01/09/2025 3:34 PM. Last Updated 01/11/2025 1:21 PM. Cause Under Investigation. Incident Maps 3D Map. Admin Unit Unified Command: Los Angeles City Fire Department and Ventura County Fire Department . Incident Management Team No team assigned. Location Victory Boulevard west of Gilmore Street, West Hills\"}]', name='tavily_search_results_json', id='1dba76e2-5bf6-4b91-9732-88c291e5f50b', tool_call_id='call_Yx3LJg0KFiSe6jiXEcnYe6bx'),\n",
       " AIMessage(content='The January 2025 Southern California wildfires were a series of wildfires that occurred in the Los Angeles metropolitan area and surrounding regions on January 7, 2025. These wildfires were characterized by meteorological conditions including hurricane-force winds, very low humidity, and prolonged drought conditions that led to extreme fire danger. \\n\\nThe wildfires caused vegetation and trees near the Getty Villa to burn, with no structural damage reported. The fire also spread to the Palisades Charter Elementary School and destroyed several beachfront properties in Malibu. The winds blew wildfire smoke across Los Angeles, leading to \"very unhealthy\" air quality index readings.\\n\\nFor more information, you can visit the following sources:\\n1. [Wikipedia - January 2025 Southern California wildfires](https://en.wikipedia.org/wiki/January_2025_Southern_California_wildfires)\\n2. [Politico - LA County wildfires among costliest in US history](https://www.politico.com/news/2025/01/11/la-county-wildfires-us-history-00197700)\\n3. [California Department of Forestry and Fire Protection - Kenneth Fire](https://www.fire.ca.gov/incidents/2025/1/9/kenneth-fire)', response_metadata={'token_usage': {'completion_tokens': 251, 'prompt_tokens': 546, 'total_tokens': 797, 'completion_tokens_details': {'accepted_prediction_tokens': 0, 'audio_tokens': 0, 'reasoning_tokens': 0, 'rejected_prediction_tokens': 0}, 'prompt_tokens_details': {'audio_tokens': 0, 'cached_tokens': 0}}, 'model_name': 'gpt-3.5-turbo-0125', 'system_fingerprint': None, 'finish_reason': 'stop', 'logprobs': None}, id='run-a5489bf3-f2ec-4c45-932b-7fff04320e33-0', usage_metadata={'input_tokens': 546, 'output_tokens': 251, 'total_tokens': 797})]"
      ]
     },
     "execution_count": 16,
     "metadata": {},
     "output_type": "execute_result"
    }
   ],
   "source": [
    "from langchain_core.messages import HumanMessage\n",
    "response = agent_executor.invoke(\n",
    "    {\n",
    "        \"messages\": [HumanMessage(content=\"Tell me about 2025 LA wildfire\")]\n",
    "    }\n",
    ")\n",
    "\n",
    "response[\"messages\"]"
   ]
  },
  {
   "cell_type": "code",
   "execution_count": 17,
   "metadata": {},
   "outputs": [
    {
     "name": "stdout",
     "output_type": "stream",
     "text": [
      "{'agent': {'messages': [AIMessage(content='', additional_kwargs={'tool_calls': [{'id': 'call_Epk84AGRuPQXxV3osECKtgfo', 'function': {'arguments': '{\"query\":\"2024 Eurocup final match date and location\"}', 'name': 'tavily_search_results_json'}, 'type': 'function'}]}, response_metadata={'token_usage': {'completion_tokens': 27, 'prompt_tokens': 96, 'total_tokens': 123, 'completion_tokens_details': {'accepted_prediction_tokens': 0, 'audio_tokens': 0, 'reasoning_tokens': 0, 'rejected_prediction_tokens': 0}, 'prompt_tokens_details': {'audio_tokens': 0, 'cached_tokens': 0}}, 'model_name': 'gpt-3.5-turbo-0125', 'system_fingerprint': None, 'finish_reason': 'tool_calls', 'logprobs': None}, id='run-3405aada-70f7-4c8f-a640-fe979e70d2cd-0', tool_calls=[{'name': 'tavily_search_results_json', 'args': {'query': '2024 Eurocup final match date and location'}, 'id': 'call_Epk84AGRuPQXxV3osECKtgfo', 'type': 'tool_call'}], usage_metadata={'input_tokens': 96, 'output_tokens': 27, 'total_tokens': 123})]}}\n",
      "----\n",
      "{'tools': {'messages': [ToolMessage(content='[{\"url\": \"https://en.wikipedia.org/wiki/UEFA_Euro_2024_Final\", \"content\": \"The UEFA Euro 2024 final was a football match that determined the winners of UEFA Euro 2024.The match was the seventeenth final of the European Championship, a quadrennial tournament contested by the men\\'s national teams of the member associations of UEFA to decide the champions of Europe. The match was held at the Olympiastadion in Berlin, Germany, on 14 July 2024, and was contested by Spain\"}, {\"url\": \"https://www.uefa.com/euro2024/news/0275-151eb1c333ea-d30deec67b13-1000--uefa-euro-2024-fixtures-when-and-where-are-the-matches/\", \"content\": \"UEFA EURO 2024 kicked off on Friday 14 June and ended with the final between Spain and England in Berlin on Sunday 14 July. See the dates, venues and schedule.\"}, {\"url\": \"https://www.uefa.com/euro2024/news/0284-18bb952a9458-2a9e1ff202c4-1000--euro-2024-final-when-and-where-is-it/\", \"content\": \"The UEFA EURO 2024 final was played on Sunday 14 July, kicking off at 21:00 CET. The final: all the reaction The match took place at Olympiastadion Berlin, the biggest stadium at the tournament\"}]', name='tavily_search_results_json', tool_call_id='call_Epk84AGRuPQXxV3osECKtgfo')]}}\n",
      "----\n",
      "{'agent': {'messages': [AIMessage(content='The 2024 Eurocup final match will be held at the Olympiastadion in Berlin, Germany on 14 July 2024. The match will be contested by the national teams of Spain and England.', response_metadata={'token_usage': {'completion_tokens': 46, 'prompt_tokens': 456, 'total_tokens': 502, 'completion_tokens_details': {'accepted_prediction_tokens': 0, 'audio_tokens': 0, 'reasoning_tokens': 0, 'rejected_prediction_tokens': 0}, 'prompt_tokens_details': {'audio_tokens': 0, 'cached_tokens': 0}}, 'model_name': 'gpt-3.5-turbo-0125', 'system_fingerprint': None, 'finish_reason': 'stop', 'logprobs': None}, id='run-41174cd2-6ea2-4ae8-a0e3-1261c41c97fd-0', usage_metadata={'input_tokens': 456, 'output_tokens': 46, 'total_tokens': 502})]}}\n",
      "----\n"
     ]
    }
   ],
   "source": [
    "for chunk in agent_executor.stream(\n",
    "    {\"messages\": [HumanMessage(content=\"When and where will it be the 2024 Eurocup final match?\")]}\n",
    "):\n",
    "    print(chunk)\n",
    "    print(\"----\")"
   ]
  },
  {
   "cell_type": "markdown",
   "metadata": {},
   "source": [
    "## Adding memory\n",
    "* Adding memory in LangGraph is very similar to what we did with LangChain."
   ]
  },
  {
   "cell_type": "code",
   "execution_count": 18,
   "metadata": {},
   "outputs": [],
   "source": [
    "from langgraph.checkpoint.memory import MemorySaver\n",
    "\n",
    "memory = MemorySaver()"
   ]
  },
  {
   "cell_type": "code",
   "execution_count": 19,
   "metadata": {},
   "outputs": [],
   "source": [
    "agent_executor = create_react_agent(llm, tools, checkpointer=memory)"
   ]
  },
  {
   "cell_type": "code",
   "execution_count": 20,
   "metadata": {},
   "outputs": [],
   "source": [
    "config = {\"configurable\": {\"thread_id\": \"001\"}}"
   ]
  },
  {
   "cell_type": "code",
   "execution_count": 21,
   "metadata": {},
   "outputs": [
    {
     "name": "stdout",
     "output_type": "stream",
     "text": [
      "{'agent': {'messages': [AIMessage(content='', additional_kwargs={'tool_calls': [{'id': 'call_s1RIUfy50sFDwHeG6QwW1bJh', 'function': {'arguments': '{\"query\":\"2024 soccer Eurocup winner\"}', 'name': 'tavily_search_results_json'}, 'type': 'function'}]}, response_metadata={'token_usage': {'completion_tokens': 24, 'prompt_tokens': 91, 'total_tokens': 115, 'completion_tokens_details': {'accepted_prediction_tokens': 0, 'audio_tokens': 0, 'reasoning_tokens': 0, 'rejected_prediction_tokens': 0}, 'prompt_tokens_details': {'audio_tokens': 0, 'cached_tokens': 0}}, 'model_name': 'gpt-3.5-turbo-0125', 'system_fingerprint': None, 'finish_reason': 'tool_calls', 'logprobs': None}, id='run-2018e649-58b9-40fc-9a85-d7e5f3d36fe3-0', tool_calls=[{'name': 'tavily_search_results_json', 'args': {'query': '2024 soccer Eurocup winner'}, 'id': 'call_s1RIUfy50sFDwHeG6QwW1bJh', 'type': 'tool_call'}], usage_metadata={'input_tokens': 91, 'output_tokens': 24, 'total_tokens': 115})]}}\n",
      "----\n",
      "{'tools': {'messages': [ToolMessage(content='[{\"url\": \"https://www.sportingnews.com/us/soccer/news/who-won-euro-2024-spain-england-oyarzabal/19ab0b3bf663194bc5193e50\", \"content\": \"Spain won the 2024 European Championship, becoming the first team to lift the trophy four times, beating England 2-1 thanks to a late winner from Mikel Oyarzabal.\"}, {\"url\": \"https://en.wikipedia.org/wiki/UEFA_Euro_2024_Final\", \"content\": \"The UEFA Euro 2024 final was a football match that determined the winners of UEFA Euro 2024.The match was the seventeenth final of the European Championship, a quadrennial tournament contested by the men\\'s national teams of the member associations of UEFA to decide the champions of Europe. The match was held at the Olympiastadion in Berlin, Germany, on 14 July 2024, and was contested by Spain\"}, {\"url\": \"https://www.cnn.com/2024/07/14/sport/spain-england-euro-2024-final-spt-intl/index.html\", \"content\": \"Spain won a record-breaking fourth European Championship, defeating England 2-1 following a drama-filled second half in the Euro 2024 final on Sunday in Berlin.\"}]', name='tavily_search_results_json', tool_call_id='call_s1RIUfy50sFDwHeG6QwW1bJh')]}}\n",
      "----\n",
      "{'agent': {'messages': [AIMessage(content=\"Spain won the 2024 European Championship by defeating England 2-1. This victory marked Spain's fourth European Championship win. The winning goal was scored by Mikel Oyarzabal.\", response_metadata={'token_usage': {'completion_tokens': 41, 'prompt_tokens': 407, 'total_tokens': 448, 'completion_tokens_details': {'accepted_prediction_tokens': 0, 'audio_tokens': 0, 'reasoning_tokens': 0, 'rejected_prediction_tokens': 0}, 'prompt_tokens_details': {'audio_tokens': 0, 'cached_tokens': 0}}, 'model_name': 'gpt-3.5-turbo-0125', 'system_fingerprint': None, 'finish_reason': 'stop', 'logprobs': None}, id='run-557efe91-1f97-4f79-b744-ddc20e5cad23-0', usage_metadata={'input_tokens': 407, 'output_tokens': 41, 'total_tokens': 448})]}}\n",
      "----\n"
     ]
    }
   ],
   "source": [
    "for chunk in agent_executor.stream(\n",
    "    {\"messages\": [HumanMessage(content=\"Who won the 2024 soccer Eurocup?\")]}, config\n",
    "):\n",
    "    print(chunk)\n",
    "    print(\"----\")"
   ]
  },
  {
   "cell_type": "code",
   "execution_count": 22,
   "metadata": {},
   "outputs": [
    {
     "name": "stdout",
     "output_type": "stream",
     "text": [
      "{'agent': {'messages': [AIMessage(content='To provide you with the top stars of the Spain national team that won the 2024 European Championship, I will need to look up the information. Let me do that for you.', additional_kwargs={'tool_calls': [{'id': 'call_VYdrr0J5xgz0Xl52T6hgcU76', 'function': {'arguments': '{\"query\":\"top stars of Spain national team 2024 Eurocup\"}', 'name': 'tavily_search_results_json'}, 'type': 'function'}]}, response_metadata={'token_usage': {'completion_tokens': 68, 'prompt_tokens': 464, 'total_tokens': 532, 'completion_tokens_details': {'accepted_prediction_tokens': 0, 'audio_tokens': 0, 'reasoning_tokens': 0, 'rejected_prediction_tokens': 0}, 'prompt_tokens_details': {'audio_tokens': 0, 'cached_tokens': 0}}, 'model_name': 'gpt-3.5-turbo-0125', 'system_fingerprint': None, 'finish_reason': 'tool_calls', 'logprobs': None}, id='run-271db5b2-7eac-4d42-9572-15289ca03050-0', tool_calls=[{'name': 'tavily_search_results_json', 'args': {'query': 'top stars of Spain national team 2024 Eurocup'}, 'id': 'call_VYdrr0J5xgz0Xl52T6hgcU76', 'type': 'tool_call'}], usage_metadata={'input_tokens': 464, 'output_tokens': 68, 'total_tokens': 532})]}}\n",
      "----\n",
      "{'tools': {'messages': [ToolMessage(content='[{\"url\": \"https://www.fourfourtwo.com/features/spain-euro-2024-squad-team-line-up-players-germany\", \"content\": \"Spain Euro 2024 squad: The final 26-man team. GK: Alex Remiro (Real Sociedad) ... Spain Euro 2024 top scorers. 3 goals: ... but spent eight years charge of three different Spanish national youth\"}, {\"url\": \"https://www.sportingnews.com/us/soccer/news/spain-euro-2024-squad-players-national-team-roster/55527da1f91a1608da30a768\", \"content\": \"Spain national team manager Luis de la Fuente named his squad for the Euro 2024 tournament in June. It includes rising Barcelona star Lamine Yamal.\"}, {\"url\": \"https://www.worldfootball.net/teams/spanien-team/em-2024-in-deutschland/2/],/\", \"content\": \"Spain coach Luis de la Fuente named Barcelona\\'s teenage stars Lamine Yamal and Pau Cubarsi in a 29-man Euro 2024 squad list on Monday.... more » 27.03.2024 00:55\"}]', name='tavily_search_results_json', tool_call_id='call_VYdrr0J5xgz0Xl52T6hgcU76')]}}\n",
      "----\n",
      "{'agent': {'messages': [AIMessage(content=\"The top stars of the Spain national team that won the 2024 European Championship included players like Alex Remiro, Lamine Yamal, and Pau Cubarsi. These players made significant contributions to Spain's success in the tournament.\", response_metadata={'token_usage': {'completion_tokens': 49, 'prompt_tokens': 797, 'total_tokens': 846, 'completion_tokens_details': {'accepted_prediction_tokens': 0, 'audio_tokens': 0, 'reasoning_tokens': 0, 'rejected_prediction_tokens': 0}, 'prompt_tokens_details': {'audio_tokens': 0, 'cached_tokens': 0}}, 'model_name': 'gpt-3.5-turbo-0125', 'system_fingerprint': None, 'finish_reason': 'stop', 'logprobs': None}, id='run-c4e34604-8303-461b-9c99-e1a075e5693d-0', usage_metadata={'input_tokens': 797, 'output_tokens': 49, 'total_tokens': 846})]}}\n",
      "----\n"
     ]
    }
   ],
   "source": [
    "for chunk in agent_executor.stream(\n",
    "    {\"messages\": [HumanMessage(content=\"Who were the top stars of that winner team?\")]}, config\n",
    "):\n",
    "    print(chunk)\n",
    "    print(\"----\")"
   ]
  },
  {
   "cell_type": "code",
   "execution_count": null,
   "metadata": {},
   "outputs": [],
   "source": []
  },
  {
   "cell_type": "code",
   "execution_count": null,
   "metadata": {},
   "outputs": [],
   "source": []
  }
 ],
 "metadata": {
  "kernelspec": {
   "display_name": "llmapp1",
   "language": "python",
   "name": "python3"
  },
  "language_info": {
   "codemirror_mode": {
    "name": "ipython",
    "version": 3
   },
   "file_extension": ".py",
   "mimetype": "text/x-python",
   "name": "python",
   "nbconvert_exporter": "python",
   "pygments_lexer": "ipython3",
   "version": "3.11.11"
  }
 },
 "nbformat": 4,
 "nbformat_minor": 2
}
